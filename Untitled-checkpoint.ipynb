{
 "cells": [
  {
   "cell_type": "code",
   "execution_count": 1,
   "metadata": {},
   "outputs": [],
   "source": [
    "from wordcloud import WordCloud, STOPWORDS\n",
    "import matplotlib.pyplot as plt\n",
    "from sklearn import metrics\n",
    "from sklearn.metrics import confusion_matrix\n",
    "%matplotlib inline\n",
    "import numpy as np\n",
    "import pandas as pd\n",
    "import seaborn as sns\n",
    "import os\n",
    "import re\n",
    "import nltk\n",
    "import seaborn as sns"
   ]
  },
  {
   "cell_type": "code",
   "execution_count": 2,
   "metadata": {},
   "outputs": [],
   "source": [
    "df=pd.read_csv(\"D:/HP1/Desktop/vishal/Fake_news_detection/Fake_news_detection/fake-news/train.csv\")"
   ]
  },
  {
   "cell_type": "code",
   "execution_count": 3,
   "metadata": {},
   "outputs": [
    {
     "data": {
      "text/plain": [
       "(20800, 5)"
      ]
     },
     "execution_count": 3,
     "metadata": {},
     "output_type": "execute_result"
    }
   ],
   "source": [
    "df.shape"
   ]
  },
  {
   "cell_type": "code",
   "execution_count": 4,
   "metadata": {},
   "outputs": [
    {
     "data": {
      "text/plain": [
       "id           0\n",
       "title      558\n",
       "author    1957\n",
       "text        39\n",
       "label        0\n",
       "dtype: int64"
      ]
     },
     "execution_count": 4,
     "metadata": {},
     "output_type": "execute_result"
    }
   ],
   "source": [
    "df.isnull().sum()"
   ]
  },
  {
   "cell_type": "code",
   "execution_count": 5,
   "metadata": {},
   "outputs": [],
   "source": [
    "df=df.dropna()"
   ]
  },
  {
   "cell_type": "code",
   "execution_count": 6,
   "metadata": {},
   "outputs": [
    {
     "data": {
      "text/plain": [
       "id        0\n",
       "title     0\n",
       "author    0\n",
       "text      0\n",
       "label     0\n",
       "dtype: int64"
      ]
     },
     "execution_count": 6,
     "metadata": {},
     "output_type": "execute_result"
    }
   ],
   "source": [
    "df.isnull().sum()"
   ]
  },
  {
   "cell_type": "code",
   "execution_count": 7,
   "metadata": {},
   "outputs": [],
   "source": [
    "train=df.copy()"
   ]
  },
  {
   "cell_type": "code",
   "execution_count": 8,
   "metadata": {},
   "outputs": [],
   "source": [
    "X=df.drop('label',axis=1)"
   ]
  },
  {
   "cell_type": "code",
   "execution_count": 9,
   "metadata": {},
   "outputs": [],
   "source": [
    "y=df['label']"
   ]
  },
  {
   "cell_type": "code",
   "execution_count": 10,
   "metadata": {},
   "outputs": [
    {
     "data": {
      "text/plain": [
       "(18285, 4)"
      ]
     },
     "execution_count": 10,
     "metadata": {},
     "output_type": "execute_result"
    }
   ],
   "source": [
    "X.shape"
   ]
  },
  {
   "cell_type": "code",
   "execution_count": 11,
   "metadata": {},
   "outputs": [
    {
     "data": {
      "text/plain": [
       "(18285,)"
      ]
     },
     "execution_count": 11,
     "metadata": {},
     "output_type": "execute_result"
    }
   ],
   "source": [
    "y.shape"
   ]
  },
  {
   "cell_type": "code",
   "execution_count": 12,
   "metadata": {},
   "outputs": [
    {
     "data": {
      "text/html": [
       "<div>\n",
       "<style scoped>\n",
       "    .dataframe tbody tr th:only-of-type {\n",
       "        vertical-align: middle;\n",
       "    }\n",
       "\n",
       "    .dataframe tbody tr th {\n",
       "        vertical-align: top;\n",
       "    }\n",
       "\n",
       "    .dataframe thead th {\n",
       "        text-align: right;\n",
       "    }\n",
       "</style>\n",
       "<table border=\"1\" class=\"dataframe\">\n",
       "  <thead>\n",
       "    <tr style=\"text-align: right;\">\n",
       "      <th></th>\n",
       "      <th>id</th>\n",
       "      <th>title</th>\n",
       "      <th>author</th>\n",
       "      <th>text</th>\n",
       "    </tr>\n",
       "  </thead>\n",
       "  <tbody>\n",
       "    <tr>\n",
       "      <th>0</th>\n",
       "      <td>0</td>\n",
       "      <td>House Dem Aide: We Didn’t Even See Comey’s Let...</td>\n",
       "      <td>Darrell Lucus</td>\n",
       "      <td>House Dem Aide: We Didn’t Even See Comey’s Let...</td>\n",
       "    </tr>\n",
       "    <tr>\n",
       "      <th>1</th>\n",
       "      <td>1</td>\n",
       "      <td>FLYNN: Hillary Clinton, Big Woman on Campus - ...</td>\n",
       "      <td>Daniel J. Flynn</td>\n",
       "      <td>Ever get the feeling your life circles the rou...</td>\n",
       "    </tr>\n",
       "    <tr>\n",
       "      <th>2</th>\n",
       "      <td>2</td>\n",
       "      <td>Why the Truth Might Get You Fired</td>\n",
       "      <td>Consortiumnews.com</td>\n",
       "      <td>Why the Truth Might Get You Fired October 29, ...</td>\n",
       "    </tr>\n",
       "    <tr>\n",
       "      <th>3</th>\n",
       "      <td>3</td>\n",
       "      <td>15 Civilians Killed In Single US Airstrike Hav...</td>\n",
       "      <td>Jessica Purkiss</td>\n",
       "      <td>Videos 15 Civilians Killed In Single US Airstr...</td>\n",
       "    </tr>\n",
       "    <tr>\n",
       "      <th>4</th>\n",
       "      <td>4</td>\n",
       "      <td>Iranian woman jailed for fictional unpublished...</td>\n",
       "      <td>Howard Portnoy</td>\n",
       "      <td>Print \\nAn Iranian woman has been sentenced to...</td>\n",
       "    </tr>\n",
       "    <tr>\n",
       "      <th>...</th>\n",
       "      <td>...</td>\n",
       "      <td>...</td>\n",
       "      <td>...</td>\n",
       "      <td>...</td>\n",
       "    </tr>\n",
       "    <tr>\n",
       "      <th>20795</th>\n",
       "      <td>20795</td>\n",
       "      <td>Rapper T.I.: Trump a ’Poster Child For White S...</td>\n",
       "      <td>Jerome Hudson</td>\n",
       "      <td>Rapper T. I. unloaded on black celebrities who...</td>\n",
       "    </tr>\n",
       "    <tr>\n",
       "      <th>20796</th>\n",
       "      <td>20796</td>\n",
       "      <td>N.F.L. Playoffs: Schedule, Matchups and Odds -...</td>\n",
       "      <td>Benjamin Hoffman</td>\n",
       "      <td>When the Green Bay Packers lost to the Washing...</td>\n",
       "    </tr>\n",
       "    <tr>\n",
       "      <th>20797</th>\n",
       "      <td>20797</td>\n",
       "      <td>Macy’s Is Said to Receive Takeover Approach by...</td>\n",
       "      <td>Michael J. de la Merced and Rachel Abrams</td>\n",
       "      <td>The Macy’s of today grew from the union of sev...</td>\n",
       "    </tr>\n",
       "    <tr>\n",
       "      <th>20798</th>\n",
       "      <td>20798</td>\n",
       "      <td>NATO, Russia To Hold Parallel Exercises In Bal...</td>\n",
       "      <td>Alex Ansary</td>\n",
       "      <td>NATO, Russia To Hold Parallel Exercises In Bal...</td>\n",
       "    </tr>\n",
       "    <tr>\n",
       "      <th>20799</th>\n",
       "      <td>20799</td>\n",
       "      <td>What Keeps the F-35 Alive</td>\n",
       "      <td>David Swanson</td>\n",
       "      <td>David Swanson is an author, activist, journa...</td>\n",
       "    </tr>\n",
       "  </tbody>\n",
       "</table>\n",
       "<p>18285 rows × 4 columns</p>\n",
       "</div>"
      ],
      "text/plain": [
       "          id                                              title  \\\n",
       "0          0  House Dem Aide: We Didn’t Even See Comey’s Let...   \n",
       "1          1  FLYNN: Hillary Clinton, Big Woman on Campus - ...   \n",
       "2          2                  Why the Truth Might Get You Fired   \n",
       "3          3  15 Civilians Killed In Single US Airstrike Hav...   \n",
       "4          4  Iranian woman jailed for fictional unpublished...   \n",
       "...      ...                                                ...   \n",
       "20795  20795  Rapper T.I.: Trump a ’Poster Child For White S...   \n",
       "20796  20796  N.F.L. Playoffs: Schedule, Matchups and Odds -...   \n",
       "20797  20797  Macy’s Is Said to Receive Takeover Approach by...   \n",
       "20798  20798  NATO, Russia To Hold Parallel Exercises In Bal...   \n",
       "20799  20799                          What Keeps the F-35 Alive   \n",
       "\n",
       "                                          author  \\\n",
       "0                                  Darrell Lucus   \n",
       "1                                Daniel J. Flynn   \n",
       "2                             Consortiumnews.com   \n",
       "3                                Jessica Purkiss   \n",
       "4                                 Howard Portnoy   \n",
       "...                                          ...   \n",
       "20795                              Jerome Hudson   \n",
       "20796                           Benjamin Hoffman   \n",
       "20797  Michael J. de la Merced and Rachel Abrams   \n",
       "20798                                Alex Ansary   \n",
       "20799                              David Swanson   \n",
       "\n",
       "                                                    text  \n",
       "0      House Dem Aide: We Didn’t Even See Comey’s Let...  \n",
       "1      Ever get the feeling your life circles the rou...  \n",
       "2      Why the Truth Might Get You Fired October 29, ...  \n",
       "3      Videos 15 Civilians Killed In Single US Airstr...  \n",
       "4      Print \\nAn Iranian woman has been sentenced to...  \n",
       "...                                                  ...  \n",
       "20795  Rapper T. I. unloaded on black celebrities who...  \n",
       "20796  When the Green Bay Packers lost to the Washing...  \n",
       "20797  The Macy’s of today grew from the union of sev...  \n",
       "20798  NATO, Russia To Hold Parallel Exercises In Bal...  \n",
       "20799    David Swanson is an author, activist, journa...  \n",
       "\n",
       "[18285 rows x 4 columns]"
      ]
     },
     "execution_count": 12,
     "metadata": {},
     "output_type": "execute_result"
    }
   ],
   "source": [
    "X"
   ]
  },
  {
   "cell_type": "code",
   "execution_count": 13,
   "metadata": {},
   "outputs": [
    {
     "data": {
      "text/plain": [
       "0    1\n",
       "1    0\n",
       "2    1\n",
       "3    1\n",
       "4    1\n",
       "Name: label, dtype: int64"
      ]
     },
     "execution_count": 13,
     "metadata": {},
     "output_type": "execute_result"
    }
   ],
   "source": [
    "y.head()"
   ]
  },
  {
   "cell_type": "markdown",
   "metadata": {},
   "source": [
    "\n",
    "# cleaning and preprocessing\n",
    "**Regex**"
   ]
  },
  {
   "cell_type": "code",
   "execution_count": 14,
   "metadata": {},
   "outputs": [],
   "source": [
    "#remove the punctuation\n",
    "s =\"!</> hello please$$ </>^s!!!u%%bs&&%$cri@@@be^^^&&!& </>*to@# the&&\\\\ cha@@@n##%^^&nel!@# %%$\"\n",
    "s=re.sub(r'[^\\w\\s]','',s)"
   ]
  },
  {
   "cell_type": "code",
   "execution_count": 15,
   "metadata": {},
   "outputs": [
    {
     "name": "stdout",
     "output_type": "stream",
     "text": [
      " hello please subscribe to the channel \n"
     ]
    }
   ],
   "source": [
    "print(s)"
   ]
  },
  {
   "cell_type": "markdown",
   "metadata": {},
   "source": [
    "# Tokenization"
   ]
  },
  {
   "cell_type": "code",
   "execution_count": 16,
   "metadata": {},
   "outputs": [
    {
     "name": "stderr",
     "output_type": "stream",
     "text": [
      "[nltk_data] Downloading package punkt to\n",
      "[nltk_data]     C:\\Users\\HP1\\AppData\\Roaming\\nltk_data...\n",
      "[nltk_data]   Package punkt is already up-to-date!\n"
     ]
    },
    {
     "data": {
      "text/plain": [
       "True"
      ]
     },
     "execution_count": 16,
     "metadata": {},
     "output_type": "execute_result"
    }
   ],
   "source": [
    "#downloading nltk data\n",
    "nltk.download('punkt')"
   ]
  },
  {
   "cell_type": "code",
   "execution_count": 17,
   "metadata": {},
   "outputs": [
    {
     "data": {
      "text/plain": [
       "['hello', 'how', 'are', 'you']"
      ]
     },
     "execution_count": 17,
     "metadata": {},
     "output_type": "execute_result"
    }
   ],
   "source": [
    "nltk.word_tokenize(\"hello how are you\")"
   ]
  },
  {
   "cell_type": "code",
   "execution_count": 18,
   "metadata": {},
   "outputs": [
    {
     "name": "stdout",
     "output_type": "stream",
     "text": [
      "['i', 'me', 'my', 'myself', 'we', 'our', 'ours', 'ourselves', 'you', \"you're\", \"you've\", \"you'll\", \"you'd\", 'your', 'yours', 'yourself', 'yourselves', 'he', 'him', 'his', 'himself', 'she', \"she's\", 'her', 'hers', 'herself', 'it', \"it's\", 'its', 'itself', 'they', 'them', 'their', 'theirs', 'themselves', 'what', 'which', 'who', 'whom', 'this', 'that', \"that'll\", 'these', 'those', 'am', 'is', 'are', 'was', 'were', 'be', 'been', 'being', 'have', 'has', 'had', 'having', 'do', 'does', 'did', 'doing', 'a', 'an', 'the', 'and', 'but', 'if', 'or', 'because', 'as', 'until', 'while', 'of', 'at', 'by', 'for', 'with', 'about', 'against', 'between', 'into', 'through', 'during', 'before', 'after', 'above', 'below', 'to', 'from', 'up', 'down', 'in', 'out', 'on', 'off', 'over', 'under', 'again', 'further', 'then', 'once', 'here', 'there', 'when', 'where', 'why', 'how', 'all', 'any', 'both', 'each', 'few', 'more', 'most', 'other', 'some', 'such', 'no', 'nor', 'not', 'only', 'own', 'same', 'so', 'than', 'too', 'very', 's', 't', 'can', 'will', 'just', 'don', \"don't\", 'should', \"should've\", 'now', 'd', 'll', 'm', 'o', 're', 've', 'y', 'ain', 'aren', \"aren't\", 'couldn', \"couldn't\", 'didn', \"didn't\", 'doesn', \"doesn't\", 'hadn', \"hadn't\", 'hasn', \"hasn't\", 'haven', \"haven't\", 'isn', \"isn't\", 'ma', 'mightn', \"mightn't\", 'mustn', \"mustn't\", 'needn', \"needn't\", 'shan', \"shan't\", 'shouldn', \"shouldn't\", 'wasn', \"wasn't\", 'weren', \"weren't\", 'won', \"won't\", 'wouldn', \"wouldn't\"]\n"
     ]
    }
   ],
   "source": [
    "from nltk.corpus import stopwords\n",
    "stop_words=stopwords.words('english')\n",
    "print(stop_words)"
   ]
  },
  {
   "cell_type": "code",
   "execution_count": 19,
   "metadata": {},
   "outputs": [
    {
     "name": "stderr",
     "output_type": "stream",
     "text": [
      "[nltk_data] Downloading package stopwords to\n",
      "[nltk_data]     C:\\Users\\HP1\\AppData\\Roaming\\nltk_data...\n",
      "[nltk_data]   Package stopwords is already up-to-date!\n"
     ]
    },
    {
     "data": {
      "text/plain": [
       "True"
      ]
     },
     "execution_count": 19,
     "metadata": {},
     "output_type": "execute_result"
    }
   ],
   "source": [
    "nltk.download('stopwords')"
   ]
  },
  {
   "cell_type": "code",
   "execution_count": 20,
   "metadata": {},
   "outputs": [],
   "source": [
    "stop_words.append(\"mesomopia\")"
   ]
  },
  {
   "cell_type": "code",
   "execution_count": 21,
   "metadata": {},
   "outputs": [
    {
     "name": "stdout",
     "output_type": "stream",
     "text": [
      "['i', 'me', 'my', 'myself', 'we', 'our', 'ours', 'ourselves', 'you', \"you're\", \"you've\", \"you'll\", \"you'd\", 'your', 'yours', 'yourself', 'yourselves', 'he', 'him', 'his', 'himself', 'she', \"she's\", 'her', 'hers', 'herself', 'it', \"it's\", 'its', 'itself', 'they', 'them', 'their', 'theirs', 'themselves', 'what', 'which', 'who', 'whom', 'this', 'that', \"that'll\", 'these', 'those', 'am', 'is', 'are', 'was', 'were', 'be', 'been', 'being', 'have', 'has', 'had', 'having', 'do', 'does', 'did', 'doing', 'a', 'an', 'the', 'and', 'but', 'if', 'or', 'because', 'as', 'until', 'while', 'of', 'at', 'by', 'for', 'with', 'about', 'against', 'between', 'into', 'through', 'during', 'before', 'after', 'above', 'below', 'to', 'from', 'up', 'down', 'in', 'out', 'on', 'off', 'over', 'under', 'again', 'further', 'then', 'once', 'here', 'there', 'when', 'where', 'why', 'how', 'all', 'any', 'both', 'each', 'few', 'more', 'most', 'other', 'some', 'such', 'no', 'nor', 'not', 'only', 'own', 'same', 'so', 'than', 'too', 'very', 's', 't', 'can', 'will', 'just', 'don', \"don't\", 'should', \"should've\", 'now', 'd', 'll', 'm', 'o', 're', 've', 'y', 'ain', 'aren', \"aren't\", 'couldn', \"couldn't\", 'didn', \"didn't\", 'doesn', \"doesn't\", 'hadn', \"hadn't\", 'hasn', \"hasn't\", 'haven', \"haven't\", 'isn', \"isn't\", 'ma', 'mightn', \"mightn't\", 'mustn', \"mustn't\", 'needn', \"needn't\", 'shan', \"shan't\", 'shouldn', \"shouldn't\", 'wasn', \"wasn't\", 'weren', \"weren't\", 'won', \"won't\", 'wouldn', \"wouldn't\", 'mesomopia']\n"
     ]
    }
   ],
   "source": [
    "print(stop_words)"
   ]
  },
  {
   "cell_type": "code",
   "execution_count": 22,
   "metadata": {},
   "outputs": [],
   "source": [
    "sentence=\"due to covid exams are cancelled which is not good for student and country economy is impacted \""
   ]
  },
  {
   "cell_type": "code",
   "execution_count": 23,
   "metadata": {},
   "outputs": [],
   "source": [
    "words=nltk.word_tokenize(sentence)\n",
    "words=[w for w in words if w not in stop_words ]"
   ]
  },
  {
   "cell_type": "code",
   "execution_count": 24,
   "metadata": {},
   "outputs": [
    {
     "data": {
      "text/plain": [
       "['due',\n",
       " 'covid',\n",
       " 'exams',\n",
       " 'cancelled',\n",
       " 'good',\n",
       " 'student',\n",
       " 'country',\n",
       " 'economy',\n",
       " 'impacted']"
      ]
     },
     "execution_count": 24,
     "metadata": {},
     "output_type": "execute_result"
    }
   ],
   "source": [
    "words"
   ]
  },
  {
   "cell_type": "markdown",
   "metadata": {},
   "source": [
    "\n",
    "\n",
    "\n",
    "# lemmatization"
   ]
  },
  {
   "cell_type": "code",
   "execution_count": 25,
   "metadata": {},
   "outputs": [],
   "source": [
    "from nltk.stem import WordNetLemmatizer\n",
    "lemmatizer=WordNetLemmatizer()\n",
    "input_str=\"Mohammad ali is the greatest Boxer world had ever produce\""
   ]
  },
  {
   "cell_type": "code",
   "execution_count": 26,
   "metadata": {},
   "outputs": [
    {
     "name": "stdout",
     "output_type": "stream",
     "text": [
      "Mohammad\n",
      "ali\n",
      "is\n",
      "the\n",
      "greatest\n",
      "Boxer\n",
      "world\n",
      "had\n",
      "ever\n",
      "produce\n"
     ]
    }
   ],
   "source": [
    "input_str=nltk.word_tokenize(input_str)\n",
    "for word in input_str:\n",
    "\n",
    "    print(lemmatizer.lemmatize(word))  "
   ]
  },
  {
   "cell_type": "code",
   "execution_count": null,
   "metadata": {},
   "outputs": [],
   "source": []
  },
  {
   "cell_type": "code",
   "execution_count": 27,
   "metadata": {
    "scrolled": true
   },
   "outputs": [],
   "source": [
    "from sklearn.feature_extraction.text import TfidfTransformer\n",
    "from sklearn.feature_extraction.text import TfidfVectorizer\n",
    "from sklearn.feature_extraction.text import CountVectorizer"
   ]
  },
  {
   "cell_type": "code",
   "execution_count": 28,
   "metadata": {},
   "outputs": [
    {
     "name": "stdout",
     "output_type": "stream",
     "text": [
      "shape of X= (18285, 4)\n",
      "shape of y= (18285,)\n"
     ]
    }
   ],
   "source": [
    "X=X\n",
    "y=y\n",
    "print(\"shape of X=\",X.shape)\n",
    "print(\"shape of y=\",y.shape)"
   ]
  },
  {
   "cell_type": "markdown",
   "metadata": {},
   "source": [
    "# Bag of words/countvectorizer"
   ]
  },
  {
   "cell_type": "code",
   "execution_count": 29,
   "metadata": {},
   "outputs": [
    {
     "name": "stdout",
     "output_type": "stream",
     "text": [
      "['best', 'first', 'is', 'match', 'of', 'season', 'the', 'there', 'third', 'this', 'today']\n"
     ]
    }
   ],
   "source": [
    "corpus=[\n",
    "    \"This is the first match of the season\",\n",
    "    \"This match is the best match of the season\",\n",
    "    \"Today is the Third match\",\n",
    "    \"Is there match today\",\n",
    "]\n",
    "vectorizer=CountVectorizer()\n",
    "Count=vectorizer.fit_transform(corpus)\n",
    "print(vectorizer.get_feature_names())"
   ]
  },
  {
   "cell_type": "code",
   "execution_count": 30,
   "metadata": {},
   "outputs": [
    {
     "name": "stdout",
     "output_type": "stream",
     "text": [
      "[[0 1 1 1 1 1 2 0 0 1 0]\n",
      " [1 0 1 2 1 1 2 0 0 1 0]\n",
      " [0 0 1 1 0 0 1 0 1 0 1]\n",
      " [0 0 1 1 0 0 0 1 0 0 1]]\n"
     ]
    }
   ],
   "source": [
    "print(Count.toarray())"
   ]
  },
  {
   "cell_type": "markdown",
   "metadata": {},
   "source": [
    "# td-idf vectorizer"
   ]
  },
  {
   "cell_type": "code",
   "execution_count": 31,
   "metadata": {},
   "outputs": [],
   "source": [
    "def vectorize_text(features, max_features):\n",
    "    vectorizer=TfidfVectorizer(stop_words='english',\n",
    "                               decode_error='strict',\n",
    "                               analyzer='word',\n",
    "                               ngram_range=(1,2),\n",
    "                               max_features=max_features)\n",
    "    feature_vec=vectorizer.fit_transform(features)\n",
    "    return feature_vec.toarray()"
   ]
  },
  {
   "cell_type": "code",
   "execution_count": 32,
   "metadata": {},
   "outputs": [],
   "source": [
    "Y=vectorize_text(['hello how was your exam today','Is it tough or easy'],10)"
   ]
  },
  {
   "cell_type": "code",
   "execution_count": 33,
   "metadata": {},
   "outputs": [
    {
     "data": {
      "text/plain": [
       "array([[0.        , 0.4472136 , 0.4472136 , 0.4472136 , 0.4472136 ,\n",
       "        0.4472136 , 0.        , 0.        ],\n",
       "       [0.57735027, 0.        , 0.        , 0.        , 0.        ,\n",
       "        0.        , 0.57735027, 0.57735027]])"
      ]
     },
     "execution_count": 33,
     "metadata": {},
     "output_type": "execute_result"
    }
   ],
   "source": [
    "Y"
   ]
  },
  {
   "cell_type": "code",
   "execution_count": 34,
   "metadata": {},
   "outputs": [],
   "source": [
    "X=X[\"title\"]+X[\"author\"]+X[\"text\"]"
   ]
  },
  {
   "cell_type": "markdown",
   "metadata": {},
   "source": [
    "# Feature extraction using countvectorizer and tfidf vecotorizer"
   ]
  },
  {
   "cell_type": "code",
   "execution_count": 35,
   "metadata": {},
   "outputs": [],
   "source": [
    "cv=TfidfVectorizer()"
   ]
  },
  {
   "cell_type": "code",
   "execution_count": 36,
   "metadata": {},
   "outputs": [],
   "source": [
    "from sklearn.model_selection import train_test_split\n",
    "X_train, X_test, y_train, y_test=train_test_split(X, y, test_size=0.3, random_state=0)"
   ]
  },
  {
   "cell_type": "code",
   "execution_count": 37,
   "metadata": {},
   "outputs": [],
   "source": [
    "X_traincv=cv.fit_transform(X_train)"
   ]
  },
  {
   "cell_type": "code",
   "execution_count": 38,
   "metadata": {},
   "outputs": [],
   "source": [
    "X_testcv=cv.transform(X_test)"
   ]
  },
  {
   "cell_type": "code",
   "execution_count": 39,
   "metadata": {},
   "outputs": [
    {
     "data": {
      "text/plain": [
       "['00',\n",
       " '000',\n",
       " '0000',\n",
       " '0001',\n",
       " '00012',\n",
       " '000202',\n",
       " '000205',\n",
       " '000billion',\n",
       " '000k',\n",
       " '000king',\n",
       " '000km',\n",
       " '000lb',\n",
       " '000m',\n",
       " '000mg',\n",
       " '000s',\n",
       " '000th',\n",
       " '000â',\n",
       " '001',\n",
       " '002',\n",
       " '003',\n",
       " '004',\n",
       " '004s',\n",
       " '005',\n",
       " '0057',\n",
       " '005s',\n",
       " '006',\n",
       " '006s',\n",
       " '007',\n",
       " '007s',\n",
       " '008',\n",
       " '008s',\n",
       " '009',\n",
       " '00am',\n",
       " '00p',\n",
       " '00pm',\n",
       " '01',\n",
       " '010',\n",
       " '0101',\n",
       " '011s',\n",
       " '012',\n",
       " '0128',\n",
       " '013',\n",
       " '0134',\n",
       " '013c2812c9',\n",
       " '014',\n",
       " '015',\n",
       " '016',\n",
       " '018',\n",
       " '019',\n",
       " '01915',\n",
       " '01am',\n",
       " '01s',\n",
       " '02',\n",
       " '020',\n",
       " '0200gmt',\n",
       " '021',\n",
       " '022',\n",
       " '024',\n",
       " '025',\n",
       " '027',\n",
       " '02714',\n",
       " '028',\n",
       " '02870',\n",
       " '029',\n",
       " '02pm',\n",
       " '02welcome',\n",
       " '03',\n",
       " '030',\n",
       " '031',\n",
       " '032',\n",
       " '0325',\n",
       " '033',\n",
       " '0331',\n",
       " '033s',\n",
       " '034',\n",
       " '035',\n",
       " '03747',\n",
       " '038',\n",
       " '039',\n",
       " '03eb',\n",
       " '03pm',\n",
       " '04',\n",
       " '040',\n",
       " '041',\n",
       " '042',\n",
       " '0442',\n",
       " '045',\n",
       " '046',\n",
       " '047',\n",
       " '049',\n",
       " '04am',\n",
       " '04pm',\n",
       " '05',\n",
       " '050',\n",
       " '051',\n",
       " '052',\n",
       " '053',\n",
       " '053112_johnson_',\n",
       " '053s',\n",
       " '055',\n",
       " '056',\n",
       " '057',\n",
       " '058',\n",
       " '059',\n",
       " '06',\n",
       " '060',\n",
       " '0600',\n",
       " '061',\n",
       " '062',\n",
       " '063',\n",
       " '064',\n",
       " '0640',\n",
       " '065',\n",
       " '066',\n",
       " '067',\n",
       " '068',\n",
       " '069',\n",
       " '06bthis',\n",
       " '06pm',\n",
       " '07',\n",
       " '070',\n",
       " '071',\n",
       " '075',\n",
       " '076',\n",
       " '077',\n",
       " '07pm',\n",
       " '08',\n",
       " '080',\n",
       " '0800',\n",
       " '080808',\n",
       " '081',\n",
       " '082',\n",
       " '083',\n",
       " '08365472',\n",
       " '084',\n",
       " '085',\n",
       " '087',\n",
       " '089',\n",
       " '0891',\n",
       " '09',\n",
       " '090',\n",
       " '091',\n",
       " '094',\n",
       " '096451',\n",
       " '098',\n",
       " '098263',\n",
       " '09k1xgyjns',\n",
       " '09l',\n",
       " '09pm',\n",
       " '0_65b67362bd',\n",
       " '0aza8',\n",
       " '0b2ffrdx7i',\n",
       " '0dpbdk6rjd',\n",
       " '0fjjvowyhg8qtskiz',\n",
       " '0h4at2yetra17uxetni02ls2jeg0mty45jrcu7mrzsrpcbq464i',\n",
       " '0hcsx5z1sd',\n",
       " '0hour',\n",
       " '0hour1__',\n",
       " '0hq3vb2giv',\n",
       " '0j6tjyeysh',\n",
       " '0kmvhb57rqi',\n",
       " '0lxfawgztu',\n",
       " '0mp7jvswy1',\n",
       " '0n',\n",
       " '0oeekvljlt',\n",
       " '0s',\n",
       " '0sdvzjgofq',\n",
       " '0shpgahsnw',\n",
       " '0t5',\n",
       " '0txrbwvobzz4fi5nksw6k5a6cxzbb3juxthmdiz93cby8gvrqiypzhajvjnt2',\n",
       " '0womdwalmi',\n",
       " '0x',\n",
       " '0x10004ba0',\n",
       " '0x10012aa4',\n",
       " '0x402560',\n",
       " '0x40f598ac21c8ad899727137c4b94458d7aa8d8',\n",
       " '10',\n",
       " '100',\n",
       " '1000',\n",
       " '1000000',\n",
       " '1000lbs',\n",
       " '1000s',\n",
       " '1000x',\n",
       " '1001',\n",
       " '1002',\n",
       " '1004',\n",
       " '100515p',\n",
       " '1007',\n",
       " '10086',\n",
       " '10087',\n",
       " '100g',\n",
       " '100k',\n",
       " '100keddy',\n",
       " '100kloc',\n",
       " '100mph',\n",
       " '100percentfedup',\n",
       " '100s',\n",
       " '100th',\n",
       " '100x',\n",
       " '100yearsstrong',\n",
       " '101',\n",
       " '1010',\n",
       " '10102',\n",
       " '1010359',\n",
       " '1012',\n",
       " '101m',\n",
       " '101st',\n",
       " '102',\n",
       " '1024026',\n",
       " '102716',\n",
       " '10272016',\n",
       " '102816',\n",
       " '1029',\n",
       " '102nd',\n",
       " '103',\n",
       " '103d',\n",
       " '104',\n",
       " '1040',\n",
       " '1040s',\n",
       " '1040x',\n",
       " '1047622',\n",
       " '104893',\n",
       " '10492',\n",
       " '105',\n",
       " '1052',\n",
       " '1054',\n",
       " '1055',\n",
       " '105th',\n",
       " '106',\n",
       " '1060',\n",
       " '1066',\n",
       " '1067',\n",
       " '107',\n",
       " '1070',\n",
       " '1078',\n",
       " '1079',\n",
       " '108',\n",
       " '108000',\n",
       " '1080р',\n",
       " '108th',\n",
       " '109',\n",
       " '1093',\n",
       " '1095',\n",
       " '1099',\n",
       " '109th',\n",
       " '10am',\n",
       " '10bn',\n",
       " '10depj4x9b',\n",
       " '10et',\n",
       " '10ft',\n",
       " '10k',\n",
       " '10km',\n",
       " '10m',\n",
       " '10m54s',\n",
       " '10mg',\n",
       " '10mm',\n",
       " '10ng',\n",
       " '10p',\n",
       " '10pm',\n",
       " '10pm31pmf',\n",
       " '10q',\n",
       " '10rounds',\n",
       " '10s',\n",
       " '10th',\n",
       " '10ths',\n",
       " '10x',\n",
       " '10y',\n",
       " '10yrs',\n",
       " '10½',\n",
       " '11',\n",
       " '110',\n",
       " '1100',\n",
       " '1103',\n",
       " '1105',\n",
       " '11063387',\n",
       " '110th',\n",
       " '111',\n",
       " '11110',\n",
       " '1116',\n",
       " '1117',\n",
       " '111th',\n",
       " '112',\n",
       " '112145924',\n",
       " '112216',\n",
       " '1123',\n",
       " '112th',\n",
       " '113',\n",
       " '11356',\n",
       " '1137',\n",
       " '1138',\n",
       " '113th',\n",
       " '114',\n",
       " '1140',\n",
       " '1146',\n",
       " '114th',\n",
       " '115',\n",
       " '11540',\n",
       " '1157',\n",
       " '115aug',\n",
       " '115th',\n",
       " '116',\n",
       " '1160',\n",
       " '11615',\n",
       " '1166',\n",
       " '1168',\n",
       " '1169',\n",
       " '116th',\n",
       " '117',\n",
       " '1172',\n",
       " '1177',\n",
       " '1178',\n",
       " '117poke',\n",
       " '117th',\n",
       " '118',\n",
       " '1180',\n",
       " '1182',\n",
       " '118243',\n",
       " '1182f',\n",
       " '11897093',\n",
       " '118th',\n",
       " '119',\n",
       " '1199',\n",
       " '11_5_2016',\n",
       " '11am',\n",
       " '11bobwhiteemail',\n",
       " '11mn',\n",
       " '11pm',\n",
       " '11s',\n",
       " '11t',\n",
       " '11th',\n",
       " '11truly',\n",
       " '11truther',\n",
       " '11uip8ckfi',\n",
       " '11½',\n",
       " '12',\n",
       " '120',\n",
       " '1200',\n",
       " '12000',\n",
       " '120bn',\n",
       " '120k',\n",
       " '120mm',\n",
       " '120mph',\n",
       " '120th',\n",
       " '121',\n",
       " '1210',\n",
       " '12113',\n",
       " '1215',\n",
       " '1219',\n",
       " '122',\n",
       " '1223',\n",
       " '1224',\n",
       " '12242321',\n",
       " '1225',\n",
       " '1226',\n",
       " '1228',\n",
       " '1229',\n",
       " '122nd',\n",
       " '123',\n",
       " '1230',\n",
       " '12333',\n",
       " '12345',\n",
       " '1234567',\n",
       " '124',\n",
       " '1240',\n",
       " '1244',\n",
       " '124th',\n",
       " '125',\n",
       " '1250',\n",
       " '1253',\n",
       " '1259',\n",
       " '125mm',\n",
       " '125th',\n",
       " '126',\n",
       " '1260',\n",
       " '12619print',\n",
       " '1262',\n",
       " '127',\n",
       " '127th',\n",
       " '128',\n",
       " '1280',\n",
       " '1282',\n",
       " '1287',\n",
       " '128th',\n",
       " '128ths',\n",
       " '129',\n",
       " '1290',\n",
       " '12alex',\n",
       " '12b',\n",
       " '12ft',\n",
       " '12gb',\n",
       " '12h',\n",
       " '12hdlgeeua87t2ju8m4tbro247yj5u2tvp',\n",
       " '12k',\n",
       " '12m',\n",
       " '12mn',\n",
       " '12newsnow',\n",
       " '12sso1zj2bbdguiraddmamlnets7oc1',\n",
       " '12t',\n",
       " '12th',\n",
       " '13',\n",
       " '130',\n",
       " '1300',\n",
       " '1301',\n",
       " '130s',\n",
       " '130th',\n",
       " '131',\n",
       " '1315',\n",
       " '1319',\n",
       " '131michael',\n",
       " '132',\n",
       " '1323',\n",
       " '1324',\n",
       " '133',\n",
       " '134',\n",
       " '134386',\n",
       " '135',\n",
       " '1352',\n",
       " '1357',\n",
       " '136',\n",
       " '13603',\n",
       " '1363',\n",
       " '1368',\n",
       " '136th',\n",
       " '137',\n",
       " '1373',\n",
       " '13738',\n",
       " '1375',\n",
       " '13769',\n",
       " '13780',\n",
       " '137894',\n",
       " '138',\n",
       " '139',\n",
       " '1390',\n",
       " '139th',\n",
       " '13apr17',\n",
       " '13onze15',\n",
       " '13th',\n",
       " '13the',\n",
       " '14',\n",
       " '140',\n",
       " '1400',\n",
       " '1400s',\n",
       " '141',\n",
       " '14141',\n",
       " '141st',\n",
       " '142',\n",
       " '142nd',\n",
       " '143',\n",
       " '1431',\n",
       " '1437',\n",
       " '1438',\n",
       " '1439',\n",
       " '143rd',\n",
       " '144',\n",
       " '1440',\n",
       " '1441',\n",
       " '144px',\n",
       " '144s',\n",
       " '144th',\n",
       " '145',\n",
       " '1453',\n",
       " '146',\n",
       " '1460',\n",
       " '1461',\n",
       " '1461783388',\n",
       " '146th',\n",
       " '147',\n",
       " '1475',\n",
       " '14762937',\n",
       " '1477',\n",
       " '1478',\n",
       " '148',\n",
       " '1482',\n",
       " '1483',\n",
       " '1485',\n",
       " '1487',\n",
       " '1488',\n",
       " '148th',\n",
       " '149',\n",
       " '1492',\n",
       " '1493',\n",
       " '1499',\n",
       " '14am',\n",
       " '14hr',\n",
       " '14k',\n",
       " '14kwh',\n",
       " '14mm',\n",
       " '14th',\n",
       " '15',\n",
       " '150',\n",
       " '1500',\n",
       " '1500s',\n",
       " '1506',\n",
       " '1508',\n",
       " '150k',\n",
       " '150km',\n",
       " '150th',\n",
       " '151',\n",
       " '1513',\n",
       " '1516',\n",
       " '1519',\n",
       " '151st',\n",
       " '152',\n",
       " '1520s',\n",
       " '1521',\n",
       " '1526',\n",
       " '152nd',\n",
       " '153',\n",
       " '1532',\n",
       " '1533',\n",
       " '1534',\n",
       " '1536',\n",
       " '1538',\n",
       " '153rd',\n",
       " '154',\n",
       " '1540',\n",
       " '1541',\n",
       " '1543',\n",
       " '15488',\n",
       " '1549',\n",
       " '154th',\n",
       " '155',\n",
       " '1552',\n",
       " '1554',\n",
       " '1555',\n",
       " '1558',\n",
       " '1559',\n",
       " '155mm',\n",
       " '155th',\n",
       " '156',\n",
       " '1560',\n",
       " '1562',\n",
       " '1563',\n",
       " '1565',\n",
       " '1566',\n",
       " '1569',\n",
       " '156th',\n",
       " '157',\n",
       " '1576',\n",
       " '1578',\n",
       " '157th',\n",
       " '158',\n",
       " '1584',\n",
       " '1588',\n",
       " '15893',\n",
       " '159',\n",
       " '159022597',\n",
       " '15am',\n",
       " '15b',\n",
       " '15caty',\n",
       " '15cwt',\n",
       " '15gillianleave',\n",
       " '15k',\n",
       " '15million',\n",
       " '15mm',\n",
       " '15oz',\n",
       " '15pm',\n",
       " '15s',\n",
       " '15sf',\n",
       " '15th',\n",
       " '16',\n",
       " '160',\n",
       " '1600',\n",
       " '1600s',\n",
       " '1604',\n",
       " '1605',\n",
       " '1606',\n",
       " '1607',\n",
       " '160716',\n",
       " '1608',\n",
       " '160th',\n",
       " '161',\n",
       " '1610',\n",
       " '161029',\n",
       " '161029shortynuclear',\n",
       " '1611',\n",
       " '1614',\n",
       " '1615',\n",
       " '1616',\n",
       " '1619',\n",
       " '161st',\n",
       " '162',\n",
       " '1620',\n",
       " '1620s',\n",
       " '1621',\n",
       " '1622',\n",
       " '1624575',\n",
       " '1625',\n",
       " '16277580',\n",
       " '1628',\n",
       " '162lvbnkan',\n",
       " '163',\n",
       " '1632',\n",
       " '1633',\n",
       " '1637',\n",
       " '164',\n",
       " '1645',\n",
       " '1649',\n",
       " '16490835',\n",
       " '165',\n",
       " '1652',\n",
       " '1653',\n",
       " '166',\n",
       " '1660',\n",
       " '1661',\n",
       " '166259',\n",
       " '1665',\n",
       " '1667',\n",
       " '1669',\n",
       " '167',\n",
       " '1670s',\n",
       " '1672',\n",
       " '1675',\n",
       " '1676',\n",
       " '1679',\n",
       " '168',\n",
       " '1680',\n",
       " '1685',\n",
       " '169',\n",
       " '1692',\n",
       " '1693',\n",
       " '1695',\n",
       " '1698',\n",
       " '16a52',\n",
       " '16bn',\n",
       " '16jerri',\n",
       " '16k',\n",
       " '16lambert',\n",
       " '16madelinewritten',\n",
       " '16michael',\n",
       " '16paul',\n",
       " '16pm',\n",
       " '16prepper',\n",
       " '16s',\n",
       " '16th',\n",
       " '16vnndonald',\n",
       " '16yrs',\n",
       " '16yves',\n",
       " '16½',\n",
       " '17',\n",
       " '170',\n",
       " '1700',\n",
       " '1700s',\n",
       " '1701',\n",
       " '17025',\n",
       " '1703',\n",
       " '1704',\n",
       " '17062738',\n",
       " '1707',\n",
       " '170c',\n",
       " '170th',\n",
       " '171',\n",
       " '1711',\n",
       " '171121',\n",
       " '1713',\n",
       " '1714',\n",
       " '1716',\n",
       " '1717',\n",
       " '172',\n",
       " '1720',\n",
       " '1721',\n",
       " '1722',\n",
       " '1723',\n",
       " '1724',\n",
       " '1725',\n",
       " '172nd',\n",
       " '173',\n",
       " '1730s',\n",
       " '1738',\n",
       " '1739',\n",
       " '174',\n",
       " '1742',\n",
       " '1744',\n",
       " '1748',\n",
       " '175',\n",
       " '1750',\n",
       " '1753',\n",
       " '1757',\n",
       " '175th',\n",
       " '175x',\n",
       " '176',\n",
       " '177',\n",
       " '1770',\n",
       " '1770s',\n",
       " '1771',\n",
       " '1772',\n",
       " '1773',\n",
       " '1775',\n",
       " '1776',\n",
       " '1777',\n",
       " '1778',\n",
       " '177a',\n",
       " '178',\n",
       " '1780s',\n",
       " '1781',\n",
       " '1783',\n",
       " '1786',\n",
       " '1786283',\n",
       " '1787',\n",
       " '1788',\n",
       " '1789',\n",
       " '179',\n",
       " '1790',\n",
       " '1791',\n",
       " '1792',\n",
       " '1793',\n",
       " '1793qianlong',\n",
       " '1794',\n",
       " '1795',\n",
       " '1795583',\n",
       " '1797',\n",
       " '1799',\n",
       " '179th',\n",
       " '17am',\n",
       " '17cv141',\n",
       " '17cv50',\n",
       " '17s',\n",
       " '17th',\n",
       " '18',\n",
       " '180',\n",
       " '1800',\n",
       " '1800flowers',\n",
       " '1800s',\n",
       " '1801',\n",
       " '1802',\n",
       " '1804',\n",
       " '1805',\n",
       " '1806',\n",
       " '1807',\n",
       " '1808',\n",
       " '181',\n",
       " '1810',\n",
       " '1811',\n",
       " '1812',\n",
       " '1814',\n",
       " '1815',\n",
       " '1816',\n",
       " '1817',\n",
       " '1818',\n",
       " '1819',\n",
       " '18192',\n",
       " '182',\n",
       " '1820',\n",
       " '1820s',\n",
       " '1822',\n",
       " '1823',\n",
       " '1824',\n",
       " '1825',\n",
       " '1826',\n",
       " '1827',\n",
       " '1829',\n",
       " '182nd',\n",
       " '183',\n",
       " '1830',\n",
       " '1830s',\n",
       " '1832',\n",
       " '1833',\n",
       " '1834',\n",
       " '1835',\n",
       " '1836',\n",
       " '1837',\n",
       " '1838',\n",
       " '1839',\n",
       " '184',\n",
       " '1840',\n",
       " '1840s',\n",
       " '1842',\n",
       " '1843',\n",
       " '1844',\n",
       " '1845',\n",
       " '1846',\n",
       " '1847',\n",
       " '1848',\n",
       " '1849',\n",
       " '185',\n",
       " '1850',\n",
       " '1850s',\n",
       " '1851',\n",
       " '1852',\n",
       " '1853',\n",
       " '1854',\n",
       " '1855',\n",
       " '1856',\n",
       " '1857',\n",
       " '1858',\n",
       " '1859',\n",
       " '186',\n",
       " '1860',\n",
       " '18600',\n",
       " '1860er',\n",
       " '1860s',\n",
       " '1861',\n",
       " '1862',\n",
       " '1863',\n",
       " '1864',\n",
       " '1865',\n",
       " '1866',\n",
       " '1867',\n",
       " '1868',\n",
       " '1869',\n",
       " '187',\n",
       " '1870',\n",
       " '1870s',\n",
       " '1871',\n",
       " '1872',\n",
       " '1873',\n",
       " '1874',\n",
       " '1875',\n",
       " '1876',\n",
       " '1877',\n",
       " '1878',\n",
       " '1879',\n",
       " '188',\n",
       " '1880',\n",
       " '18807137',\n",
       " '1880s',\n",
       " '1881',\n",
       " '1882',\n",
       " '1883',\n",
       " '1884',\n",
       " '1885',\n",
       " '1886',\n",
       " '1887',\n",
       " '1888',\n",
       " '1889',\n",
       " '189',\n",
       " '1890',\n",
       " '1890s',\n",
       " '1891',\n",
       " '1892',\n",
       " '1893',\n",
       " '1894',\n",
       " '1895',\n",
       " '1896',\n",
       " '1897',\n",
       " '1897arnold',\n",
       " '1898',\n",
       " '1899',\n",
       " '18e',\n",
       " '18m',\n",
       " '18th',\n",
       " '19',\n",
       " '190',\n",
       " '1900',\n",
       " '1900s',\n",
       " '1901',\n",
       " '1902',\n",
       " '1903',\n",
       " '1904',\n",
       " '1905',\n",
       " '1906',\n",
       " '1907',\n",
       " '1908',\n",
       " '19083',\n",
       " '1909',\n",
       " '191',\n",
       " '1910',\n",
       " '1910s',\n",
       " '1911',\n",
       " '1911s',\n",
       " '1912',\n",
       " '1913',\n",
       " '1914',\n",
       " '1915',\n",
       " '1916',\n",
       " '1917',\n",
       " '1918',\n",
       " '1919',\n",
       " '192',\n",
       " '1920',\n",
       " '1920henry',\n",
       " '1920s',\n",
       " '1921',\n",
       " '1922',\n",
       " '1923',\n",
       " '1924',\n",
       " '1925',\n",
       " '1926',\n",
       " '1927',\n",
       " '1928',\n",
       " '1929',\n",
       " '192ff',\n",
       " '193',\n",
       " '1930',\n",
       " '1930s',\n",
       " '1931',\n",
       " '1932',\n",
       " '1933',\n",
       " '1934',\n",
       " '1935',\n",
       " '1936',\n",
       " '1937',\n",
       " '1938',\n",
       " '1939',\n",
       " '194',\n",
       " '1940',\n",
       " '1940s',\n",
       " '1940sandrew',\n",
       " '1941',\n",
       " '1942',\n",
       " '1943',\n",
       " '1944',\n",
       " '1945',\n",
       " '1946',\n",
       " '1947',\n",
       " '1948',\n",
       " '1948anna',\n",
       " '1949',\n",
       " '194th',\n",
       " '195',\n",
       " '1950',\n",
       " '1950s',\n",
       " '1951',\n",
       " '1952',\n",
       " '1953',\n",
       " '1954',\n",
       " '1955',\n",
       " '1956',\n",
       " '1957',\n",
       " '1958',\n",
       " '1959',\n",
       " '196',\n",
       " '1960',\n",
       " '1960s',\n",
       " '1960â',\n",
       " '1961',\n",
       " '1962',\n",
       " '1963',\n",
       " '1964',\n",
       " '1965',\n",
       " '19654253',\n",
       " '1966',\n",
       " '1967',\n",
       " '1968',\n",
       " '1969',\n",
       " '197',\n",
       " '1970',\n",
       " '1970s',\n",
       " '1970sking',\n",
       " '1971',\n",
       " '1972',\n",
       " '1973',\n",
       " '1974',\n",
       " '1975',\n",
       " '1976',\n",
       " '1977',\n",
       " '1978',\n",
       " '1979',\n",
       " '198',\n",
       " '1980',\n",
       " '1980s',\n",
       " '1981',\n",
       " '1982',\n",
       " '1983',\n",
       " '1984',\n",
       " '1984rebooted',\n",
       " '1985',\n",
       " '1986',\n",
       " '1987',\n",
       " '1988',\n",
       " '1989',\n",
       " '198974609375',\n",
       " '198th',\n",
       " '199',\n",
       " '1990',\n",
       " '1990s',\n",
       " '1991',\n",
       " '1992',\n",
       " '1993',\n",
       " '1994',\n",
       " '1995',\n",
       " '1996',\n",
       " '1997',\n",
       " '1998',\n",
       " '1999',\n",
       " '19am',\n",
       " '19pm',\n",
       " '19th',\n",
       " '19thmike',\n",
       " '1a',\n",
       " '1alvwe4bralkh',\n",
       " '1am',\n",
       " '1ao',\n",
       " '1b',\n",
       " '1b1',\n",
       " '1bbswheiehlqifxzus3j35',\n",
       " '1billion',\n",
       " '1bjxt3uhim5fqn93gb0hkxakuarz99d7xcitzftye',\n",
       " '1c',\n",
       " '1capplegate',\n",
       " '1corinthians',\n",
       " '1d',\n",
       " '1er',\n",
       " '1fifty',\n",
       " '1for',\n",
       " '1hotels',\n",
       " '1huziqim53',\n",
       " '1hztlj',\n",
       " '1is9krdfnysv0buhf8elizydmsrpwn944flw1tofjw46j4uaxsbrbp284wifmv8n',\n",
       " '1jquvafupk',\n",
       " ...]"
      ]
     },
     "execution_count": 39,
     "metadata": {},
     "output_type": "execute_result"
    }
   ],
   "source": [
    "cv.get_feature_names()"
   ]
  },
  {
   "cell_type": "code",
   "execution_count": 40,
   "metadata": {},
   "outputs": [],
   "source": [
    "from sklearn.linear_model import LogisticRegression\n",
    "logic=LogisticRegression()\n",
    "logic.fit(X_traincv,y_train)\n",
    "pred=logic.predict(X_testcv)"
   ]
  },
  {
   "cell_type": "code",
   "execution_count": 41,
   "metadata": {},
   "outputs": [],
   "source": [
    "from sklearn.metrics import classification_report"
   ]
  },
  {
   "cell_type": "code",
   "execution_count": 42,
   "metadata": {},
   "outputs": [],
   "source": [
    "\n",
    "from sklearn.metrics import confusion_matrix\n",
    "from sklearn.metrics import accuracy_score"
   ]
  },
  {
   "cell_type": "code",
   "execution_count": 43,
   "metadata": {},
   "outputs": [
    {
     "data": {
      "image/png": "[encoded data removed]",
      "text/plain": [
       "<Figure size 432x288 with 2 Axes>"
      ]
     },
     "metadata": {
      "needs_background": "light"
     },
     "output_type": "display_data"
    }
   ],
   "source": [
    "cm=confusion_matrix(y_test,pred)\n",
    "axes=sns.heatmap(cm,square=True,annot=True, fmt='d', \n",
    "                  cbar=True, cmap=plt.cm.GnBu)"
   ]
  },
  {
   "cell_type": "code",
   "execution_count": 44,
   "metadata": {},
   "outputs": [
    {
     "data": {
      "text/plain": [
       "0.94896099161502"
      ]
     },
     "execution_count": 44,
     "metadata": {},
     "output_type": "execute_result"
    }
   ],
   "source": [
    "accuracy_score(y_test,pred)"
   ]
  },
  {
   "cell_type": "code",
   "execution_count": 45,
   "metadata": {},
   "outputs": [],
   "source": [
    "from sklearn.metrics import classification_report"
   ]
  },
  {
   "cell_type": "code",
   "execution_count": 46,
   "metadata": {},
   "outputs": [
    {
     "data": {
      "text/plain": [
       "'              precision    recall  f1-score   support\\n\\n           0       0.94      0.97      0.96      3084\\n           1       0.95      0.93      0.94      2402\\n\\n    accuracy                           0.95      5486\\n   macro avg       0.95      0.95      0.95      5486\\nweighted avg       0.95      0.95      0.95      5486\\n'"
      ]
     },
     "execution_count": 46,
     "metadata": {},
     "output_type": "execute_result"
    }
   ],
   "source": [
    "classification_report(y_test,pred)"
   ]
  },
  {
   "cell_type": "code",
   "execution_count": 47,
   "metadata": {},
   "outputs": [],
   "source": [
    "from sklearn.pipeline import Pipeline\n",
    "import joblib\n",
    "from sklearn import linear_model"
   ]
  },
  {
   "cell_type": "code",
   "execution_count": 48,
   "metadata": {},
   "outputs": [],
   "source": [
    "pipeline=Pipeline([\n",
    "    ('tfidf',TfidfVectorizer()),\n",
    "    ('elf',linear_model.LogisticRegression())\n",
    "      ])"
   ]
  },
  {
   "cell_type": "code",
   "execution_count": 49,
   "metadata": {},
   "outputs": [
    {
     "data": {
      "text/plain": [
       "Pipeline(steps=[('tfidf', TfidfVectorizer()), ('elf', LogisticRegression())])"
      ]
     },
     "execution_count": 49,
     "metadata": {},
     "output_type": "execute_result"
    }
   ],
   "source": [
    "pipeline.fit(X_train,y_train)"
   ]
  },
  {
   "cell_type": "code",
   "execution_count": 50,
   "metadata": {},
   "outputs": [
    {
     "data": {
      "text/plain": [
       "array([0], dtype=int64)"
      ]
     },
     "execution_count": 50,
     "metadata": {},
     "output_type": "execute_result"
    }
   ],
   "source": [
    "pipeline.predict([\"FLYNN: Hillary Clinton, Big Woman on Campus - Breitbart Daniel J. Flynn glasses (awarding her matronly wisdom â€”  or at least John Lennon wisdom) took issue with the previous speaker. Despite becoming the first   to win election to a seat in the U. S. Senate since Reconstruction, Edward Brooke came in for criticism for calling for â€œempathyâ€ for the goals of protestors as he criticized tactics. Though Clinton in her senior thesis on Saul Alinsky lamented â€œBlack Power demagoguesâ€ and â€œelitist arrogance and repressive intoleranceâ€ within the New Left, similar words coming out of a Republican necessitated a brief rebuttal. â€œTrust,â€ Rodham ironically observed in 1969, â€œthis is one word that when I asked the class at our rehearsal what it was they wanted me to say for them, everyone came up to me and said â€˜Talk about trust, talk about the lack of trust both for us and the way we feel about others. Talk about the trust bust.â€™ What can you say about it? What can you say about a feeling that permeates a generation and that perhaps is not even understood by those who are distrusted?â€ The â€œtrust bustâ€ certainly busted Clintonâ€™s 2016 plans. She certainly did not even understand that people distrusted her. After Whitewater, Travelgate, the vast   conspiracy, Benghazi, and the missing emails, Clinton found herself the distrusted voice on Friday. There was a load of compromising on the road to the broadening of her political horizons. And distrust from the American people â€”  Trump edged her 48 percent to 38 percent on the question immediately prior to Novemberâ€™s election â€”  stood as a major reason for the closing of those horizons. Clinton described her vanquisher and his supporters as embracing a â€œlie,â€ a â€œcon,â€ â€œalternative facts,â€ and â€œa   assault on truth and reason. â€ She failed to explain why the American people chose his lies over her truth. â€œAs the history majors among you here today know all too well, when people in power invent their own facts and attack those who question them, it can mark the beginning of the end of a free society,â€ she offered. â€œThat is not hyperbole. â€ Like so many people to emerge from the 1960s, Hillary Clinton embarked upon a long, strange trip. From high school Goldwater Girl and Wellesley College Republican president to Democratic politician, Clinton drank in the times and the place that gave her a degree. More significantly, she went from idealist to cynic, as a comparison of her two Wellesley commencement addresses show. Way back when, she lamented that â€œfor too long our leaders have viewed politics as the art of the possible, and the challenge now is to practice politics as the art of making what appears to be impossible possible. â€ Now, as the big woman on campus but the odd woman out of the White House, she wonders how her current station is even possible. â€œWhy arenâ€™t I 50 points ahead?â€ she asked in September. In May she asks why she isnâ€™t president. The woman famously dubbed a â€œcongenital liarâ€ by Bill Safire concludes that lies did her in â€”  theirs, mind you, not hers. Getting stood up on Election Day, like finding yourself the jilted bride on your wedding day, inspires dangerous delusions.\"])"
   ]
  },
  {
   "cell_type": "code",
   "execution_count": 51,
   "metadata": {},
   "outputs": [
    {
     "data": {
      "text/plain": [
       "['pipeline.sav']"
      ]
     },
     "execution_count": 51,
     "metadata": {},
     "output_type": "execute_result"
    }
   ],
   "source": [
    "filename='pipeline.sav'\n",
    "joblib.dump(pipeline,filename)"
   ]
  },
  {
   "cell_type": "code",
   "execution_count": 52,
   "metadata": {},
   "outputs": [],
   "source": [
    "fiename='pipeline.sav'"
   ]
  },
  {
   "cell_type": "code",
   "execution_count": 53,
   "metadata": {},
   "outputs": [
    {
     "name": "stdout",
     "output_type": "stream",
     "text": [
      "[0]\n"
     ]
    }
   ],
   "source": [
    "loaded_model=joblib.load(filename)\n",
    "result=loaded_model.predict([\"FLYNN: Hillary Clinton, Big Woman on Campus - Breitbart Daniel J. Flynn glasses (awarding her matronly wisdom â€”  or at least John Lennon wisdom) took issue with the previous speaker. Despite becoming the first   to win election to a seat in the U. S. Senate since Reconstruction, Edward Brooke came in for criticism for calling for â€œempathyâ€ for the goals of protestors as he criticized tactics. Though Clinton in her senior thesis on Saul Alinsky lamented â€œBlack Power demagoguesâ€ and â€œelitist arrogance and repressive intoleranceâ€ within the New Left, similar words coming out of a Republican necessitated a brief rebuttal. â€œTrust,â€ Rodham ironically observed in 1969, â€œthis is one word that when I asked the class at our rehearsal what it was they wanted me to say for them, everyone came up to me and said â€˜Talk about trust, talk about the lack of trust both for us and the way we feel about others. Talk about the trust bust.â€™ What can you say about it? What can you say about a feeling that permeates a generation and that perhaps is not even understood by those who are distrusted?â€ The â€œtrust bustâ€ certainly busted Clintonâ€™s 2016 plans. She certainly did not even understand that people distrusted her. After Whitewater, Travelgate, the vast   conspiracy, Benghazi, and the missing emails, Clinton found herself the distrusted voice on Friday. There was a load of compromising on the road to the broadening of her political horizons. And distrust from the American people â€”  Trump edged her 48 percent to 38 percent on the question immediately prior to Novemberâ€™s election â€”  stood as a major reason for the closing of those horizons. Clinton described her vanquisher and his supporters as embracing a â€œlie,â€ a â€œcon,â€ â€œalternative facts,â€ and â€œa   assault on truth and reason. â€ She failed to explain why the American people chose his lies over her truth. â€œAs the history majors among you here today know all too well, when people in power invent their own facts and attack those who question them, it can mark the beginning of the end of a free society,â€ she offered. â€œThat is not hyperbole. â€ Like so many people to emerge from the 1960s, Hillary Clinton embarked upon a long, strange trip. From high school Goldwater Girl and Wellesley College Republican president to Democratic politician, Clinton drank in the times and the place that gave her a degree. More significantly, she went from idealist to cynic, as a comparison of her two Wellesley commencement addresses show. Way back when, she lamented that â€œfor too long our leaders have viewed politics as the art of the possible, and the challenge now is to practice politics as the art of making what appears to be impossible possible. â€ Now, as the big woman on campus but the odd woman out of the White House, she wonders how her current station is even possible. â€œWhy arenâ€™t I 50 points ahead?â€ she asked in September. In May she asks why she isnâ€™t president. The woman famously dubbed a â€œcongenital liarâ€ by Bill Safire concludes that lies did her in â€”  theirs, mind you, not hers. Getting stood up on Election Day, like finding yourself the jilted bride on your wedding day, inspires dangerous delusions.\"])\n",
    "print(result)"
   ]
  },
  {
   "cell_type": "code",
   "execution_count": null,
   "metadata": {},
   "outputs": [],
   "source": []
  }
 ],
 "metadata": {
  "kernelspec": {
   "display_name": "Python 3",
   "language": "python",
   "name": "python3"
  },
  "language_info": {
   "codemirror_mode": {
    "name": "ipython",
    "version": 3
   },
   "file_extension": ".py",
   "mimetype": "text/x-python",
   "name": "python",
   "nbconvert_exporter": "python",
   "pygments_lexer": "ipython3",
   "version": "3.8.3"
  }
 },
 "nbformat": 4,
 "nbformat_minor": 4
}
